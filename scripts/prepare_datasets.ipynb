{
 "cells": [
  {
   "cell_type": "code",
   "execution_count": 1,
   "metadata": {},
   "outputs": [],
   "source": [
    "import sys\n",
    "sys.path.insert(0, '..')\n",
    "\n",
    "import os\n",
    "import pandas as pd\n",
    "import torchvision.transforms as T\n",
    "from wildlife_datasets.datasets import WildlifeReID10k\n",
    "from wildlife_datasets.preparation import prepare_functions, species_conversion\n",
    "from wildlife_datasets.splits import OpenSetSplit, DisjointSetSplit, extract_data_split"
   ]
  },
  {
   "cell_type": "code",
   "execution_count": null,
   "metadata": {},
   "outputs": [],
   "source": [
    "img_size = 384\n",
    "root_datasets = '/data/wildlife_datasets/data'\n",
    "root = os.path.join(root_datasets, f'Datasets_{img_size}')\n",
    "root_images = os.path.join(root, 'images')\n",
    "root_metadata = os.path.join(root, 'metadata')\n",
    "transform = T.Resize(size=img_size) # Change to None to remove resizing\n",
    "copy_files = True # Change to False for speed-up once the data have been copied\n",
    "names = [\n",
    "    'ATRW',\n",
    "    'BelugaID',\n",
    "    'CTai',\n",
    "    'ELPephants',\n",
    "    'Giraffes',\n",
    "    'GiraffeZebraID',\n",
    "    'HumpbackWhaleID',\n",
    "    'HyenaID2022',\n",
    "    'IPanda50',\n",
    "    'LeopardID2022',\n",
    "    'MacaqueFaces',\n",
    "    'NyalaData',\n",
    "    'OpenCows2020',\n",
    "    'SealID',\n",
    "    'SeaTurtleID2022',\n",
    "    'StripeSpotter',\n",
    "    'WhaleSharkID',\n",
    "    'ZindiTurtleRecall'\n",
    "]\n",
    "remove_str = ['[', ']']"
   ]
  },
  {
   "cell_type": "code",
   "execution_count": 3,
   "metadata": {},
   "outputs": [
    {
     "name": "stdout",
     "output_type": "stream",
     "text": [
      "ATRW\n"
     ]
    },
    {
     "name": "stderr",
     "output_type": "stream",
     "text": [
      "  0%|                                                                      | 0/5415 [00:00<?, ?it/s]"
     ]
    },
    {
     "name": "stderr",
     "output_type": "stream",
     "text": [
      "100%|████████████████████████████████████████████████████████| 5415/5415 [00:00<00:00, 19731.07it/s]\n"
     ]
    },
    {
     "name": "stdout",
     "output_type": "stream",
     "text": [
      "BelugaID\n"
     ]
    },
    {
     "name": "stderr",
     "output_type": "stream",
     "text": [
      "100%|████████████████████████████████████████████████████████| 8559/8559 [00:00<00:00, 23318.84it/s]\n"
     ]
    },
    {
     "name": "stdout",
     "output_type": "stream",
     "text": [
      "CTai\n"
     ]
    },
    {
     "name": "stderr",
     "output_type": "stream",
     "text": [
      "100%|████████████████████████████████████████████████████████| 5078/5078 [00:00<00:00, 19480.88it/s]\n"
     ]
    },
    {
     "name": "stdout",
     "output_type": "stream",
     "text": [
      "ELPephants\n"
     ]
    },
    {
     "name": "stderr",
     "output_type": "stream",
     "text": [
      "100%|████████████████████████████████████████████████████████| 2078/2078 [00:00<00:00, 22039.56it/s]\n"
     ]
    },
    {
     "name": "stdout",
     "output_type": "stream",
     "text": [
      "Giraffes\n"
     ]
    },
    {
     "name": "stderr",
     "output_type": "stream",
     "text": [
      "100%|████████████████████████████████████████████████████████| 1393/1393 [00:00<00:00, 29651.88it/s]\n"
     ]
    },
    {
     "name": "stdout",
     "output_type": "stream",
     "text": [
      "GiraffeZebraID\n"
     ]
    },
    {
     "name": "stderr",
     "output_type": "stream",
     "text": [
      "100%|████████████████████████████████████████████████████████| 6925/6925 [00:00<00:00, 23483.51it/s]\n"
     ]
    },
    {
     "name": "stdout",
     "output_type": "stream",
     "text": [
      "HumpbackWhaleID\n"
     ]
    },
    {
     "name": "stderr",
     "output_type": "stream",
     "text": [
      "100%|██████████████████████████████████████████████████████| 15697/15697 [00:00<00:00, 30043.78it/s]\n"
     ]
    },
    {
     "name": "stdout",
     "output_type": "stream",
     "text": [
      "HyenaID2022\n"
     ]
    },
    {
     "name": "stderr",
     "output_type": "stream",
     "text": [
      "100%|████████████████████████████████████████████████████████| 3129/3129 [00:00<00:00, 21701.17it/s]\n"
     ]
    },
    {
     "name": "stdout",
     "output_type": "stream",
     "text": [
      "IPanda50\n"
     ]
    },
    {
     "name": "stderr",
     "output_type": "stream",
     "text": [
      "100%|████████████████████████████████████████████████████████| 6874/6874 [00:00<00:00, 29115.32it/s]\n"
     ]
    },
    {
     "name": "stdout",
     "output_type": "stream",
     "text": [
      "LeopardID2022\n"
     ]
    },
    {
     "name": "stderr",
     "output_type": "stream",
     "text": [
      "100%|████████████████████████████████████████████████████████| 6806/6806 [00:00<00:00, 21673.18it/s]\n"
     ]
    },
    {
     "name": "stdout",
     "output_type": "stream",
     "text": [
      "MacaqueFaces\n"
     ]
    },
    {
     "name": "stderr",
     "output_type": "stream",
     "text": [
      "100%|████████████████████████████████████████████████████████| 6280/6280 [00:00<00:00, 21287.75it/s]\n"
     ]
    },
    {
     "name": "stdout",
     "output_type": "stream",
     "text": [
      "NyalaData\n"
     ]
    },
    {
     "name": "stderr",
     "output_type": "stream",
     "text": [
      "100%|████████████████████████████████████████████████████████| 1942/1942 [00:00<00:00, 20811.26it/s]\n"
     ]
    },
    {
     "name": "stdout",
     "output_type": "stream",
     "text": [
      "OpenCows2020\n"
     ]
    },
    {
     "name": "stderr",
     "output_type": "stream",
     "text": [
      "100%|████████████████████████████████████████████████████████| 4736/4736 [00:00<00:00, 29373.61it/s]\n"
     ]
    },
    {
     "name": "stdout",
     "output_type": "stream",
     "text": [
      "SealID\n"
     ]
    },
    {
     "name": "stderr",
     "output_type": "stream",
     "text": [
      "100%|████████████████████████████████████████████████████████| 2080/2080 [00:00<00:00, 19750.95it/s]\n"
     ]
    },
    {
     "name": "stdout",
     "output_type": "stream",
     "text": [
      "SeaTurtleID2022\n"
     ]
    },
    {
     "name": "stderr",
     "output_type": "stream",
     "text": [
      "100%|████████████████████████████████████████████████████████| 8729/8729 [00:00<00:00, 22971.59it/s]\n"
     ]
    },
    {
     "name": "stdout",
     "output_type": "stream",
     "text": [
      "StripeSpotter\n"
     ]
    },
    {
     "name": "stderr",
     "output_type": "stream",
     "text": [
      "100%|██████████████████████████████████████████████████████████| 820/820 [00:00<00:00, 33633.18it/s]\n"
     ]
    },
    {
     "name": "stdout",
     "output_type": "stream",
     "text": [
      "WhaleSharkID\n"
     ]
    },
    {
     "name": "stderr",
     "output_type": "stream",
     "text": [
      "100%|████████████████████████████████████████████████████████| 7693/7693 [00:00<00:00, 23072.73it/s]\n"
     ]
    },
    {
     "name": "stdout",
     "output_type": "stream",
     "text": [
      "ZindiTurtleRecall\n"
     ]
    },
    {
     "name": "stderr",
     "output_type": "stream",
     "text": [
      "100%|██████████████████████████████████████████████████████| 12803/12803 [00:00<00:00, 31213.30it/s]\n"
     ]
    }
   ],
   "source": [
    "for name, prepare in prepare_functions.items():\n",
    "    if name in names:\n",
    "        print(name)\n",
    "        os.makedirs(f'{root_metadata}/{name}/', exist_ok=True)\n",
    "        metadata_part = prepare(f'{root_datasets}/{name}', f'{root_images}/{name}', transform=transform, copy_files=copy_files, remove_str=remove_str)\n",
    "        metadata_part.to_csv(f'{root_metadata}/{name}/metadata.csv', index=False)"
   ]
  },
  {
   "cell_type": "code",
   "execution_count": 4,
   "metadata": {},
   "outputs": [],
   "source": [
    "metadata = []\n",
    "for name in prepare_functions:\n",
    "    if name in names:\n",
    "        metadata_part = pd.read_csv(f'{root_metadata}/{name}/metadata.csv')\n",
    "        metadata_part['dataset'] = name\n",
    "        metadata_part['identity'] = name + '_' + metadata_part['identity'].astype(str)\n",
    "        metadata_part['path'] = 'images/' + name + '/' + metadata_part['path']\n",
    "        metadata_part['species'] = metadata_part['species'].apply(lambda x: species_conversion[x])\n",
    "        # Compute split\n",
    "        splitter1 = OpenSetSplit(ratio_train=0.8, ratio_class_test=0.1, seed=666, open_in_test=False)\n",
    "        idx_database_full, idx_query = splitter1.split(metadata_part)[0]\n",
    "        splitter2 = DisjointSetSplit(ratio_class_test=0.2, seed=666)\n",
    "        idx_train, idx_database = splitter2.split(metadata_part.iloc[idx_database_full])[0]\n",
    "        if not set(idx_train).union(set(idx_database)).union(set(idx_query)) == set(range(len(metadata_part))):\n",
    "            raise Exception('The division is not unique')\n",
    "        if set(idx_train).intersection(set(idx_database)) != set():\n",
    "            raise Exception('Intersection is non-empty')\n",
    "        if set(idx_database).intersection(set(idx_query)) != set():\n",
    "            raise Exception('Intersection is non-empty')\n",
    "        if set(idx_train).intersection(set(idx_query)) != set():\n",
    "            raise Exception('Intersection is non-empty')\n",
    "        metadata_part.loc[idx_train, 'split'] = 'train'\n",
    "        metadata_part.loc[idx_database, 'split'] = 'database'\n",
    "        metadata_part.loc[idx_query, 'split'] = 'query'\n",
    "        metadata.append(metadata_part)\n",
    "metadata = pd.concat(metadata).reset_index(drop=True)\n",
    "metadata = metadata.drop('image_id', axis=1)\n",
    "metadata['image_id'] = range(len(metadata))\n",
    "idx = ~metadata['date'].isnull()\n",
    "idx = metadata.index[idx]\n",
    "metadata.loc[idx, 'date'] = pd.to_datetime(metadata.loc[idx, 'date'].astype(str).apply(lambda x: x[:10]), format='%Y-%m-%d').astype(str)\n",
    "metadata['orientation'] = metadata['orientation'].replace({'below': 'down', 'up': 'top', 'above': 'top'})\n",
    "metadata.to_csv(f'{root}/metadata.csv', index=False)"
   ]
  },
  {
   "cell_type": "code",
   "execution_count": 5,
   "metadata": {},
   "outputs": [
    {
     "data": {
      "text/plain": [
       "107037"
      ]
     },
     "execution_count": 5,
     "metadata": {},
     "output_type": "execute_result"
    }
   ],
   "source": [
    "dataset = WildlifeReID10k(root)\n",
    "dataset.df = dataset.df.drop('date', axis=1)\n",
    "len(dataset)"
   ]
  },
  {
   "cell_type": "code",
   "execution_count": 12,
   "metadata": {},
   "outputs": [
    {
     "data": {
      "text/html": [
       "<div>\n",
       "<style scoped>\n",
       "    .dataframe tbody tr th:only-of-type {\n",
       "        vertical-align: middle;\n",
       "    }\n",
       "\n",
       "    .dataframe tbody tr th {\n",
       "        vertical-align: top;\n",
       "    }\n",
       "\n",
       "    .dataframe thead th {\n",
       "        text-align: right;\n",
       "    }\n",
       "</style>\n",
       "<table border=\"1\" class=\"dataframe\">\n",
       "  <thead>\n",
       "    <tr style=\"text-align: right;\">\n",
       "      <th></th>\n",
       "      <th>n</th>\n",
       "      <th>n_individuals</th>\n",
       "      <th>ratio_train</th>\n",
       "      <th>ratio_test</th>\n",
       "      <th>ratio_train_only</th>\n",
       "    </tr>\n",
       "  </thead>\n",
       "  <tbody>\n",
       "    <tr>\n",
       "      <th>ATRW</th>\n",
       "      <td>5415</td>\n",
       "      <td>182</td>\n",
       "      <td>0.801847</td>\n",
       "      <td>0.198153</td>\n",
       "      <td>0.073130</td>\n",
       "    </tr>\n",
       "    <tr>\n",
       "      <th>BelugaID</th>\n",
       "      <td>8559</td>\n",
       "      <td>788</td>\n",
       "      <td>0.787709</td>\n",
       "      <td>0.212291</td>\n",
       "      <td>0.077813</td>\n",
       "    </tr>\n",
       "    <tr>\n",
       "      <th>CTai</th>\n",
       "      <td>5078</td>\n",
       "      <td>78</td>\n",
       "      <td>0.800118</td>\n",
       "      <td>0.199882</td>\n",
       "      <td>0.073257</td>\n",
       "    </tr>\n",
       "    <tr>\n",
       "      <th>ELPephants</th>\n",
       "      <td>2078</td>\n",
       "      <td>274</td>\n",
       "      <td>0.792108</td>\n",
       "      <td>0.207892</td>\n",
       "      <td>0.082772</td>\n",
       "    </tr>\n",
       "    <tr>\n",
       "      <th>GiraffeZebraID</th>\n",
       "      <td>6925</td>\n",
       "      <td>2056</td>\n",
       "      <td>0.792491</td>\n",
       "      <td>0.207509</td>\n",
       "      <td>0.175884</td>\n",
       "    </tr>\n",
       "    <tr>\n",
       "      <th>Giraffes</th>\n",
       "      <td>1393</td>\n",
       "      <td>178</td>\n",
       "      <td>0.806174</td>\n",
       "      <td>0.193826</td>\n",
       "      <td>0.071070</td>\n",
       "    </tr>\n",
       "    <tr>\n",
       "      <th>HumpbackWhaleID</th>\n",
       "      <td>15697</td>\n",
       "      <td>5004</td>\n",
       "      <td>0.774097</td>\n",
       "      <td>0.225903</td>\n",
       "      <td>0.175830</td>\n",
       "    </tr>\n",
       "    <tr>\n",
       "      <th>HyenaID2022</th>\n",
       "      <td>3129</td>\n",
       "      <td>256</td>\n",
       "      <td>0.799936</td>\n",
       "      <td>0.200064</td>\n",
       "      <td>0.060403</td>\n",
       "    </tr>\n",
       "    <tr>\n",
       "      <th>IPanda50</th>\n",
       "      <td>6874</td>\n",
       "      <td>50</td>\n",
       "      <td>0.800262</td>\n",
       "      <td>0.199738</td>\n",
       "      <td>0.091650</td>\n",
       "    </tr>\n",
       "    <tr>\n",
       "      <th>LeopardID2022</th>\n",
       "      <td>6806</td>\n",
       "      <td>430</td>\n",
       "      <td>0.793418</td>\n",
       "      <td>0.206582</td>\n",
       "      <td>0.112989</td>\n",
       "    </tr>\n",
       "    <tr>\n",
       "      <th>MacaqueFaces</th>\n",
       "      <td>6280</td>\n",
       "      <td>34</td>\n",
       "      <td>0.800318</td>\n",
       "      <td>0.199682</td>\n",
       "      <td>0.121019</td>\n",
       "    </tr>\n",
       "    <tr>\n",
       "      <th>NyalaData</th>\n",
       "      <td>1942</td>\n",
       "      <td>237</td>\n",
       "      <td>0.784758</td>\n",
       "      <td>0.215242</td>\n",
       "      <td>0.071576</td>\n",
       "    </tr>\n",
       "    <tr>\n",
       "      <th>OpenCows2020</th>\n",
       "      <td>4736</td>\n",
       "      <td>46</td>\n",
       "      <td>0.800042</td>\n",
       "      <td>0.199958</td>\n",
       "      <td>0.105785</td>\n",
       "    </tr>\n",
       "    <tr>\n",
       "      <th>SeaTurtleID2022</th>\n",
       "      <td>8729</td>\n",
       "      <td>438</td>\n",
       "      <td>0.799404</td>\n",
       "      <td>0.200596</td>\n",
       "      <td>0.086493</td>\n",
       "    </tr>\n",
       "    <tr>\n",
       "      <th>SealID</th>\n",
       "      <td>2080</td>\n",
       "      <td>57</td>\n",
       "      <td>0.798558</td>\n",
       "      <td>0.201442</td>\n",
       "      <td>0.090385</td>\n",
       "    </tr>\n",
       "    <tr>\n",
       "      <th>StripeSpotter</th>\n",
       "      <td>820</td>\n",
       "      <td>45</td>\n",
       "      <td>0.798780</td>\n",
       "      <td>0.201220</td>\n",
       "      <td>0.124390</td>\n",
       "    </tr>\n",
       "    <tr>\n",
       "      <th>WhaleSharkID</th>\n",
       "      <td>7693</td>\n",
       "      <td>543</td>\n",
       "      <td>0.796568</td>\n",
       "      <td>0.203432</td>\n",
       "      <td>0.077733</td>\n",
       "    </tr>\n",
       "    <tr>\n",
       "      <th>ZindiTurtleRecall</th>\n",
       "      <td>12803</td>\n",
       "      <td>2265</td>\n",
       "      <td>0.771147</td>\n",
       "      <td>0.228853</td>\n",
       "      <td>0.075373</td>\n",
       "    </tr>\n",
       "  </tbody>\n",
       "</table>\n",
       "</div>"
      ],
      "text/plain": [
       "                       n  n_individuals  ratio_train  ratio_test  \\\n",
       "ATRW                5415            182     0.801847    0.198153   \n",
       "BelugaID            8559            788     0.787709    0.212291   \n",
       "CTai                5078             78     0.800118    0.199882   \n",
       "ELPephants          2078            274     0.792108    0.207892   \n",
       "GiraffeZebraID      6925           2056     0.792491    0.207509   \n",
       "Giraffes            1393            178     0.806174    0.193826   \n",
       "HumpbackWhaleID    15697           5004     0.774097    0.225903   \n",
       "HyenaID2022         3129            256     0.799936    0.200064   \n",
       "IPanda50            6874             50     0.800262    0.199738   \n",
       "LeopardID2022       6806            430     0.793418    0.206582   \n",
       "MacaqueFaces        6280             34     0.800318    0.199682   \n",
       "NyalaData           1942            237     0.784758    0.215242   \n",
       "OpenCows2020        4736             46     0.800042    0.199958   \n",
       "SeaTurtleID2022     8729            438     0.799404    0.200596   \n",
       "SealID              2080             57     0.798558    0.201442   \n",
       "StripeSpotter        820             45     0.798780    0.201220   \n",
       "WhaleSharkID        7693            543     0.796568    0.203432   \n",
       "ZindiTurtleRecall  12803           2265     0.771147    0.228853   \n",
       "\n",
       "                   ratio_train_only  \n",
       "ATRW                       0.073130  \n",
       "BelugaID                   0.077813  \n",
       "CTai                       0.073257  \n",
       "ELPephants                 0.082772  \n",
       "GiraffeZebraID             0.175884  \n",
       "Giraffes                   0.071070  \n",
       "HumpbackWhaleID            0.175830  \n",
       "HyenaID2022                0.060403  \n",
       "IPanda50                   0.091650  \n",
       "LeopardID2022              0.112989  \n",
       "MacaqueFaces               0.121019  \n",
       "NyalaData                  0.071576  \n",
       "OpenCows2020               0.105785  \n",
       "SeaTurtleID2022            0.086493  \n",
       "SealID                     0.090385  \n",
       "StripeSpotter              0.124390  \n",
       "WhaleSharkID               0.077733  \n",
       "ZindiTurtleRecall          0.075373  "
      ]
     },
     "execution_count": 12,
     "metadata": {},
     "output_type": "execute_result"
    }
   ],
   "source": [
    "summary = {}\n",
    "for name, df_dataset in dataset.df.groupby('dataset'):\n",
    "    idx_train = (df_dataset['split'] == 'train')\n",
    "    idx_train = df_dataset[idx_train].index\n",
    "    idx_non_train = (df_dataset['split'] != 'train')\n",
    "    idx_non_train = df_dataset[idx_non_train].index\n",
    "    idx_database_full = (df_dataset['split'] == 'train') + (df_dataset['split'] == 'database')\n",
    "    idx_database_full = df_dataset[idx_database_full].index\n",
    "    idx_query = (df_dataset['split'] == 'query')\n",
    "    idx_query = df_dataset[idx_query].index\n",
    "\n",
    "    split_data1 = extract_data_split(df_dataset, idx_database_full, idx_query)\n",
    "    split_data2 = extract_data_split(df_dataset, idx_train, idx_non_train)\n",
    "\n",
    "    if split_data1['id_split'] != 'closed-set':\n",
    "        raise Exception('split is not closed set')\n",
    "    summary[name] = {\n",
    "        'n': split_data1['n'],\n",
    "        'n_individuals': split_data1['n_ids'],\n",
    "        'ratio_train': split_data1['n_train'] / split_data1['n'],\n",
    "        'ratio_test': split_data1['n_test'] / split_data1['n'],\n",
    "        'ratio_train_only': split_data2['n_train_only'] / split_data2['n'],\n",
    "    }\n",
    "summary = pd.DataFrame(summary).T\n",
    "summary[['n', 'n_individuals']] = summary[['n', 'n_individuals']].astype(int)\n",
    "summary"
   ]
  }
 ],
 "metadata": {
  "kernelspec": {
   "display_name": "venv",
   "language": "python",
   "name": "python3"
  },
  "language_info": {
   "codemirror_mode": {
    "name": "ipython",
    "version": 3
   },
   "file_extension": ".py",
   "mimetype": "text/x-python",
   "name": "python",
   "nbconvert_exporter": "python",
   "pygments_lexer": "ipython3",
   "version": "3.10.12"
  }
 },
 "nbformat": 4,
 "nbformat_minor": 2
}
